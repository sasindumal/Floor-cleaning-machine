{
 "cells": [
  {
   "cell_type": "markdown",
   "id": "7bacbfcc",
   "metadata": {},
   "source": [
    "# Floor Cleaning Machine ML Model with Random Forest "
   ]
  },
  {
   "cell_type": "markdown",
   "id": "cc9013b9",
   "metadata": {},
   "source": [
    "This code is fully owned by Sasindu Malhara (2022/E/126,University of jaffna) group R1."
   ]
  },
  {
   "cell_type": "markdown",
   "id": "18964d93",
   "metadata": {},
   "source": [
    "### Import libraries"
   ]
  },
  {
   "cell_type": "code",
   "execution_count": 1,
   "id": "2ff16f02",
   "metadata": {},
   "outputs": [],
   "source": [
    "import pandas as pd\n",
    "from sklearn.model_selection import train_test_split\n",
    "from sklearn.ensemble import RandomForestClassifier\n",
    "import json\n",
    "from sklearn.metrics import accuracy_score"
   ]
  },
  {
   "cell_type": "markdown",
   "id": "4226bdfd",
   "metadata": {},
   "source": [
    "### Import data"
   ]
  },
  {
   "cell_type": "code",
   "execution_count": 2,
   "id": "55bd0691",
   "metadata": {},
   "outputs": [],
   "source": [
    "data=pd.read_csv(\"D:\\\\Sem 3 - E22\\\\E22\\\\DP\\\\Our\\\\2.0\\\\Git\\\\Floor-cleaning-machine\\\\Code\\\\ML\\\\Floor cleaning machine ML dataset .csv\")"
   ]
  },
  {
   "cell_type": "markdown",
   "id": "e457606f",
   "metadata": {},
   "source": [
    "### Data mapping"
   ]
  },
  {
   "cell_type": "code",
   "execution_count": 3,
   "id": "77e5bd4b",
   "metadata": {},
   "outputs": [],
   "source": [
    "data['next movement'] = data['next movement'].map({' L': 0, 'R': 1, 'B': 2, 'F': 3})"
   ]
  },
  {
   "cell_type": "code",
   "execution_count": 4,
   "id": "95783517",
   "metadata": {},
   "outputs": [],
   "source": [
    "data.fillna(0, inplace=True)\n"
   ]
  },
  {
   "cell_type": "code",
   "execution_count": 5,
   "id": "1adcd5f7",
   "metadata": {},
   "outputs": [],
   "source": [
    "X = data.drop('next movement', axis=1)\n",
    "y = data['next movement']"
   ]
  },
  {
   "cell_type": "code",
   "execution_count": 6,
   "id": "ca4132bd",
   "metadata": {},
   "outputs": [
    {
     "data": {
      "text/html": [
       "<div>\n",
       "<style scoped>\n",
       "    .dataframe tbody tr th:only-of-type {\n",
       "        vertical-align: middle;\n",
       "    }\n",
       "\n",
       "    .dataframe tbody tr th {\n",
       "        vertical-align: top;\n",
       "    }\n",
       "\n",
       "    .dataframe thead th {\n",
       "        text-align: right;\n",
       "    }\n",
       "</style>\n",
       "<table border=\"1\" class=\"dataframe\">\n",
       "  <thead>\n",
       "    <tr style=\"text-align: right;\">\n",
       "      <th></th>\n",
       "      <th>Usf</th>\n",
       "      <th>Usl</th>\n",
       "      <th>Usr</th>\n",
       "    </tr>\n",
       "  </thead>\n",
       "  <tbody>\n",
       "    <tr>\n",
       "      <th>0</th>\n",
       "      <td>1</td>\n",
       "      <td>0</td>\n",
       "      <td>0</td>\n",
       "    </tr>\n",
       "    <tr>\n",
       "      <th>1</th>\n",
       "      <td>1</td>\n",
       "      <td>1</td>\n",
       "      <td>0</td>\n",
       "    </tr>\n",
       "    <tr>\n",
       "      <th>2</th>\n",
       "      <td>1</td>\n",
       "      <td>0</td>\n",
       "      <td>1</td>\n",
       "    </tr>\n",
       "    <tr>\n",
       "      <th>3</th>\n",
       "      <td>1</td>\n",
       "      <td>1</td>\n",
       "      <td>1</td>\n",
       "    </tr>\n",
       "    <tr>\n",
       "      <th>4</th>\n",
       "      <td>0</td>\n",
       "      <td>0</td>\n",
       "      <td>0</td>\n",
       "    </tr>\n",
       "    <tr>\n",
       "      <th>...</th>\n",
       "      <td>...</td>\n",
       "      <td>...</td>\n",
       "      <td>...</td>\n",
       "    </tr>\n",
       "    <tr>\n",
       "      <th>59</th>\n",
       "      <td>1</td>\n",
       "      <td>1</td>\n",
       "      <td>1</td>\n",
       "    </tr>\n",
       "    <tr>\n",
       "      <th>60</th>\n",
       "      <td>0</td>\n",
       "      <td>0</td>\n",
       "      <td>0</td>\n",
       "    </tr>\n",
       "    <tr>\n",
       "      <th>61</th>\n",
       "      <td>0</td>\n",
       "      <td>1</td>\n",
       "      <td>1</td>\n",
       "    </tr>\n",
       "    <tr>\n",
       "      <th>62</th>\n",
       "      <td>0</td>\n",
       "      <td>1</td>\n",
       "      <td>0</td>\n",
       "    </tr>\n",
       "    <tr>\n",
       "      <th>63</th>\n",
       "      <td>0</td>\n",
       "      <td>0</td>\n",
       "      <td>1</td>\n",
       "    </tr>\n",
       "  </tbody>\n",
       "</table>\n",
       "<p>64 rows × 3 columns</p>\n",
       "</div>"
      ],
      "text/plain": [
       "    Usf  Usl  Usr\n",
       "0     1    0    0\n",
       "1     1    1    0\n",
       "2     1    0    1\n",
       "3     1    1    1\n",
       "4     0    0    0\n",
       "..  ...  ...  ...\n",
       "59    1    1    1\n",
       "60    0    0    0\n",
       "61    0    1    1\n",
       "62    0    1    0\n",
       "63    0    0    1\n",
       "\n",
       "[64 rows x 3 columns]"
      ]
     },
     "execution_count": 6,
     "metadata": {},
     "output_type": "execute_result"
    }
   ],
   "source": [
    "X"
   ]
  },
  {
   "cell_type": "code",
   "execution_count": 7,
   "id": "eab11eeb",
   "metadata": {},
   "outputs": [
    {
     "data": {
      "text/plain": [
       "0     1.0\n",
       "1     1.0\n",
       "2     0.0\n",
       "3     2.0\n",
       "4     3.0\n",
       "     ... \n",
       "59    2.0\n",
       "60    3.0\n",
       "61    3.0\n",
       "62    3.0\n",
       "63    3.0\n",
       "Name: next movement, Length: 64, dtype: float64"
      ]
     },
     "execution_count": 7,
     "metadata": {},
     "output_type": "execute_result"
    }
   ],
   "source": [
    "y"
   ]
  },
  {
   "cell_type": "code",
   "execution_count": 8,
   "id": "dfd7d1e9",
   "metadata": {},
   "outputs": [
    {
     "name": "stdout",
     "output_type": "stream",
     "text": [
      "X.shape= (64, 3) y.shape= (64,)\n"
     ]
    }
   ],
   "source": [
    "print('X.shape=', X.shape, 'y.shape=', y.shape)"
   ]
  },
  {
   "cell_type": "markdown",
   "id": "f35e097e",
   "metadata": {},
   "source": [
    "### Splitting data"
   ]
  },
  {
   "cell_type": "code",
   "execution_count": 9,
   "id": "757c301d",
   "metadata": {},
   "outputs": [],
   "source": [
    "X_train, X_test, y_train, y_test = train_test_split(X, y, test_size=0.2, random_state=42)"
   ]
  },
  {
   "cell_type": "markdown",
   "id": "cc56d772",
   "metadata": {},
   "source": [
    "### Finding best parameters"
   ]
  },
  {
   "cell_type": "code",
   "execution_count": 11,
   "id": "112c1d5a",
   "metadata": {},
   "outputs": [
    {
     "name": "stdout",
     "output_type": "stream",
     "text": [
      "Fitting 3 folds for each of 100 candidates, totalling 300 fits\n"
     ]
    },
    {
     "name": "stderr",
     "output_type": "stream",
     "text": [
      "c:\\Users\\sasin\\anaconda3\\Lib\\site-packages\\sklearn\\ensemble\\_forest.py:424: FutureWarning: `max_features='auto'` has been deprecated in 1.1 and will be removed in 1.3. To keep the past behaviour, explicitly set `max_features='sqrt'` or remove this parameter as it is also the default value for RandomForestClassifiers and ExtraTreesClassifiers.\n",
      "  warn(\n"
     ]
    }
   ],
   "source": [
    "from sklearn.model_selection import RandomizedSearchCV\n",
    "from scipy.stats import randint\n",
    "\n",
    "param_dist = {\n",
    "    'n_estimators': randint(100, 1000),\n",
    "    'max_features': ['auto', 'sqrt', 'log2'],\n",
    "    'max_depth': randint(4, 20),\n",
    "    'min_samples_split': randint(2, 10),\n",
    "    'min_samples_leaf': randint(1, 4),\n",
    "    'bootstrap': [True, False]\n",
    "}\n",
    "\n",
    "rf = RandomForestClassifier()\n",
    "random_search = RandomizedSearchCV(estimator = rf, param_distributions = param_dist, \n",
    "                                   n_iter = 100, cv = 3, n_jobs = -1, verbose = 2)\n",
    "random_search.fit(X_train, y_train)\n",
    "best_params = random_search.best_params_\n"
   ]
  },
  {
   "cell_type": "code",
   "execution_count": 12,
   "id": "7ce56986",
   "metadata": {},
   "outputs": [
    {
     "data": {
      "text/plain": [
       "{'bootstrap': True,\n",
       " 'max_depth': 15,\n",
       " 'max_features': 'auto',\n",
       " 'min_samples_leaf': 2,\n",
       " 'min_samples_split': 4,\n",
       " 'n_estimators': 134}"
      ]
     },
     "execution_count": 12,
     "metadata": {},
     "output_type": "execute_result"
    }
   ],
   "source": [
    "best_params"
   ]
  },
  {
   "cell_type": "markdown",
   "id": "105ced6d",
   "metadata": {},
   "source": [
    "### Model"
   ]
  },
  {
   "cell_type": "code",
   "execution_count": 20,
   "id": "6d2864fe",
   "metadata": {},
   "outputs": [
    {
     "name": "stderr",
     "output_type": "stream",
     "text": [
      "c:\\Users\\sasin\\anaconda3\\Lib\\site-packages\\sklearn\\ensemble\\_forest.py:424: FutureWarning: `max_features='auto'` has been deprecated in 1.1 and will be removed in 1.3. To keep the past behaviour, explicitly set `max_features='sqrt'` or remove this parameter as it is also the default value for RandomForestClassifiers and ExtraTreesClassifiers.\n",
      "  warn(\n"
     ]
    },
    {
     "data": {
      "text/html": [
       "<style>#sk-container-id-2 {color: black;background-color: white;}#sk-container-id-2 pre{padding: 0;}#sk-container-id-2 div.sk-toggleable {background-color: white;}#sk-container-id-2 label.sk-toggleable__label {cursor: pointer;display: block;width: 100%;margin-bottom: 0;padding: 0.3em;box-sizing: border-box;text-align: center;}#sk-container-id-2 label.sk-toggleable__label-arrow:before {content: \"▸\";float: left;margin-right: 0.25em;color: #696969;}#sk-container-id-2 label.sk-toggleable__label-arrow:hover:before {color: black;}#sk-container-id-2 div.sk-estimator:hover label.sk-toggleable__label-arrow:before {color: black;}#sk-container-id-2 div.sk-toggleable__content {max-height: 0;max-width: 0;overflow: hidden;text-align: left;background-color: #f0f8ff;}#sk-container-id-2 div.sk-toggleable__content pre {margin: 0.2em;color: black;border-radius: 0.25em;background-color: #f0f8ff;}#sk-container-id-2 input.sk-toggleable__control:checked~div.sk-toggleable__content {max-height: 200px;max-width: 100%;overflow: auto;}#sk-container-id-2 input.sk-toggleable__control:checked~label.sk-toggleable__label-arrow:before {content: \"▾\";}#sk-container-id-2 div.sk-estimator input.sk-toggleable__control:checked~label.sk-toggleable__label {background-color: #d4ebff;}#sk-container-id-2 div.sk-label input.sk-toggleable__control:checked~label.sk-toggleable__label {background-color: #d4ebff;}#sk-container-id-2 input.sk-hidden--visually {border: 0;clip: rect(1px 1px 1px 1px);clip: rect(1px, 1px, 1px, 1px);height: 1px;margin: -1px;overflow: hidden;padding: 0;position: absolute;width: 1px;}#sk-container-id-2 div.sk-estimator {font-family: monospace;background-color: #f0f8ff;border: 1px dotted black;border-radius: 0.25em;box-sizing: border-box;margin-bottom: 0.5em;}#sk-container-id-2 div.sk-estimator:hover {background-color: #d4ebff;}#sk-container-id-2 div.sk-parallel-item::after {content: \"\";width: 100%;border-bottom: 1px solid gray;flex-grow: 1;}#sk-container-id-2 div.sk-label:hover label.sk-toggleable__label {background-color: #d4ebff;}#sk-container-id-2 div.sk-serial::before {content: \"\";position: absolute;border-left: 1px solid gray;box-sizing: border-box;top: 0;bottom: 0;left: 50%;z-index: 0;}#sk-container-id-2 div.sk-serial {display: flex;flex-direction: column;align-items: center;background-color: white;padding-right: 0.2em;padding-left: 0.2em;position: relative;}#sk-container-id-2 div.sk-item {position: relative;z-index: 1;}#sk-container-id-2 div.sk-parallel {display: flex;align-items: stretch;justify-content: center;background-color: white;position: relative;}#sk-container-id-2 div.sk-item::before, #sk-container-id-2 div.sk-parallel-item::before {content: \"\";position: absolute;border-left: 1px solid gray;box-sizing: border-box;top: 0;bottom: 0;left: 50%;z-index: -1;}#sk-container-id-2 div.sk-parallel-item {display: flex;flex-direction: column;z-index: 1;position: relative;background-color: white;}#sk-container-id-2 div.sk-parallel-item:first-child::after {align-self: flex-end;width: 50%;}#sk-container-id-2 div.sk-parallel-item:last-child::after {align-self: flex-start;width: 50%;}#sk-container-id-2 div.sk-parallel-item:only-child::after {width: 0;}#sk-container-id-2 div.sk-dashed-wrapped {border: 1px dashed gray;margin: 0 0.4em 0.5em 0.4em;box-sizing: border-box;padding-bottom: 0.4em;background-color: white;}#sk-container-id-2 div.sk-label label {font-family: monospace;font-weight: bold;display: inline-block;line-height: 1.2em;}#sk-container-id-2 div.sk-label-container {text-align: center;}#sk-container-id-2 div.sk-container {/* jupyter's `normalize.less` sets `[hidden] { display: none; }` but bootstrap.min.css set `[hidden] { display: none !important; }` so we also need the `!important` here to be able to override the default hidden behavior on the sphinx rendered scikit-learn.org. See: https://github.com/scikit-learn/scikit-learn/issues/21755 */display: inline-block !important;position: relative;}#sk-container-id-2 div.sk-text-repr-fallback {display: none;}</style><div id=\"sk-container-id-2\" class=\"sk-top-container\"><div class=\"sk-text-repr-fallback\"><pre>RandomForestClassifier(max_depth=3, max_features=&#x27;auto&#x27;, min_samples_leaf=2,\n",
       "                       min_samples_split=4, n_estimators=10)</pre><b>In a Jupyter environment, please rerun this cell to show the HTML representation or trust the notebook. <br />On GitHub, the HTML representation is unable to render, please try loading this page with nbviewer.org.</b></div><div class=\"sk-container\" hidden><div class=\"sk-item\"><div class=\"sk-estimator sk-toggleable\"><input class=\"sk-toggleable__control sk-hidden--visually\" id=\"sk-estimator-id-2\" type=\"checkbox\" checked><label for=\"sk-estimator-id-2\" class=\"sk-toggleable__label sk-toggleable__label-arrow\">RandomForestClassifier</label><div class=\"sk-toggleable__content\"><pre>RandomForestClassifier(max_depth=3, max_features=&#x27;auto&#x27;, min_samples_leaf=2,\n",
       "                       min_samples_split=4, n_estimators=10)</pre></div></div></div></div></div>"
      ],
      "text/plain": [
       "RandomForestClassifier(max_depth=3, max_features='auto', min_samples_leaf=2,\n",
       "                       min_samples_split=4, n_estimators=10)"
      ]
     },
     "execution_count": 20,
     "metadata": {},
     "output_type": "execute_result"
    }
   ],
   "source": [
    "model = RandomForestClassifier(\n",
    "    bootstrap=True,\n",
    "    max_depth=3,\n",
    "    max_features='auto',\n",
    "    min_samples_leaf=2,\n",
    "    min_samples_split=4,\n",
    "    n_estimators=10\n",
    ")\n",
    "model.fit(X_train, y_train)"
   ]
  },
  {
   "cell_type": "code",
   "execution_count": 21,
   "id": "7afbd030",
   "metadata": {},
   "outputs": [],
   "source": [
    "y_pred = model.predict(X_test)\n"
   ]
  },
  {
   "cell_type": "markdown",
   "id": "f62c4f88",
   "metadata": {},
   "source": [
    "### Evaluating model"
   ]
  },
  {
   "cell_type": "code",
   "execution_count": 22,
   "id": "fcad560a",
   "metadata": {},
   "outputs": [
    {
     "name": "stdout",
     "output_type": "stream",
     "text": [
      "Accuracy: 1.00\n"
     ]
    }
   ],
   "source": [
    "accuracy = accuracy_score(y_test, y_pred)\n",
    "print(f'Accuracy: {accuracy:.2f}')\n"
   ]
  },
  {
   "cell_type": "markdown",
   "id": "3ed5b57d",
   "metadata": {},
   "source": [
    "### Predicting"
   ]
  },
  {
   "cell_type": "code",
   "execution_count": 17,
   "id": "d32ba7e7",
   "metadata": {},
   "outputs": [
    {
     "name": "stdout",
     "output_type": "stream",
     "text": [
      "Predicted class: [3.]\n"
     ]
    },
    {
     "name": "stderr",
     "output_type": "stream",
     "text": [
      "c:\\Users\\sasin\\anaconda3\\Lib\\site-packages\\sklearn\\base.py:439: UserWarning: X does not have valid feature names, but RandomForestClassifier was fitted with feature names\n",
      "  warnings.warn(\n"
     ]
    }
   ],
   "source": [
    "# Sample input\n",
    "sample_input = [[0, 0, 1, ]]\n",
    "\n",
    "# Predict\n",
    "y_pred = model.predict(sample_input)\n",
    "\n",
    "print(\"Predicted class:\", y_pred)"
   ]
  },
  {
   "cell_type": "code",
   "execution_count": 18,
   "id": "871bd247",
   "metadata": {},
   "outputs": [
    {
     "name": "stdout",
     "output_type": "stream",
     "text": [
      "Predicted next movement: F\n"
     ]
    }
   ],
   "source": [
    "next_movement_mapping = {0: 'L', 1: 'R', 2: 'B', 3: 'F'}\n",
    "predicted_movement = next_movement_mapping[y_pred[0]]\n",
    "print(f'Predicted next movement: {predicted_movement}')"
   ]
  },
  {
   "cell_type": "markdown",
   "id": "6e2cc976",
   "metadata": {},
   "source": [
    "### Converting the model to c++ for inject Arduino"
   ]
  },
  {
   "cell_type": "code",
   "execution_count": 23,
   "id": "e6c37bb4",
   "metadata": {},
   "outputs": [
    {
     "name": "stdout",
     "output_type": "stream",
     "text": [
      "#pragma once\n",
      "#include <cstdarg>\n",
      "namespace Eloquent {\n",
      "    namespace ML {\n",
      "        namespace Port {\n",
      "            class RandomForest {\n",
      "                public:\n",
      "                    /**\n",
      "                    * Predict class for features vector\n",
      "                    */\n",
      "                    int predict(float *x) {\n",
      "                        uint8_t votes[4] = { 0 };\n",
      "                        // tree #1\n",
      "                        if (x[0] <= 0.5) {\n",
      "                            votes[3] += 1;\n",
      "                        }\n",
      "\n",
      "                        else {\n",
      "                            if (x[1] <= 0.5) {\n",
      "                                if (x[2] <= 0.5) {\n",
      "                                    votes[1] += 1;\n",
      "                                }\n",
      "\n",
      "                                else {\n",
      "                                    votes[0] += 1;\n",
      "                                }\n",
      "                            }\n",
      "\n",
      "                            else {\n",
      "                                if (x[2] <= 0.5) {\n",
      "                                    votes[1] += 1;\n",
      "                                }\n",
      "\n",
      "                                else {\n",
      "                                    votes[2] += 1;\n",
      "                                }\n",
      "                            }\n",
      "                        }\n",
      "\n",
      "                        // tree #2\n",
      "                        if (x[2] <= 0.5) {\n",
      "                            if (x[0] <= 0.5) {\n",
      "                                votes[3] += 1;\n",
      "                            }\n",
      "\n",
      "                            else {\n",
      "                                votes[1] += 1;\n",
      "                            }\n",
      "                        }\n",
      "\n",
      "                        else {\n",
      "                            if (x[0] <= 0.5) {\n",
      "                                votes[3] += 1;\n",
      "                            }\n",
      "\n",
      "                            else {\n",
      "                                if (x[1] <= 0.5) {\n",
      "                                    votes[0] += 1;\n",
      "                                }\n",
      "\n",
      "                                else {\n",
      "                                    votes[2] += 1;\n",
      "                                }\n",
      "                            }\n",
      "                        }\n",
      "\n",
      "                        // tree #3\n",
      "                        if (x[0] <= 0.5) {\n",
      "                            votes[3] += 1;\n",
      "                        }\n",
      "\n",
      "                        else {\n",
      "                            if (x[1] <= 0.5) {\n",
      "                                if (x[2] <= 0.5) {\n",
      "                                    votes[1] += 1;\n",
      "                                }\n",
      "\n",
      "                                else {\n",
      "                                    votes[0] += 1;\n",
      "                                }\n",
      "                            }\n",
      "\n",
      "                            else {\n",
      "                                if (x[2] <= 0.5) {\n",
      "                                    votes[1] += 1;\n",
      "                                }\n",
      "\n",
      "                                else {\n",
      "                                    votes[2] += 1;\n",
      "                                }\n",
      "                            }\n",
      "                        }\n",
      "\n",
      "                        // tree #4\n",
      "                        if (x[2] <= 0.5) {\n",
      "                            if (x[1] <= 0.5) {\n",
      "                                if (x[0] <= 0.5) {\n",
      "                                    votes[3] += 1;\n",
      "                                }\n",
      "\n",
      "                                else {\n",
      "                                    votes[1] += 1;\n",
      "                                }\n",
      "                            }\n",
      "\n",
      "                            else {\n",
      "                                if (x[0] <= 0.5) {\n",
      "                                    votes[3] += 1;\n",
      "                                }\n",
      "\n",
      "                                else {\n",
      "                                    votes[1] += 1;\n",
      "                                }\n",
      "                            }\n",
      "                        }\n",
      "\n",
      "                        else {\n",
      "                            if (x[0] <= 0.5) {\n",
      "                                votes[3] += 1;\n",
      "                            }\n",
      "\n",
      "                            else {\n",
      "                                if (x[1] <= 0.5) {\n",
      "                                    votes[0] += 1;\n",
      "                                }\n",
      "\n",
      "                                else {\n",
      "                                    votes[2] += 1;\n",
      "                                }\n",
      "                            }\n",
      "                        }\n",
      "\n",
      "                        // tree #5\n",
      "                        if (x[0] <= 0.5) {\n",
      "                            votes[3] += 1;\n",
      "                        }\n",
      "\n",
      "                        else {\n",
      "                            if (x[2] <= 0.5) {\n",
      "                                votes[1] += 1;\n",
      "                            }\n",
      "\n",
      "                            else {\n",
      "                                if (x[1] <= 0.5) {\n",
      "                                    votes[0] += 1;\n",
      "                                }\n",
      "\n",
      "                                else {\n",
      "                                    votes[2] += 1;\n",
      "                                }\n",
      "                            }\n",
      "                        }\n",
      "\n",
      "                        // tree #6\n",
      "                        if (x[1] <= 0.5) {\n",
      "                            if (x[0] <= 0.5) {\n",
      "                                votes[3] += 1;\n",
      "                            }\n",
      "\n",
      "                            else {\n",
      "                                if (x[2] <= 0.5) {\n",
      "                                    votes[1] += 1;\n",
      "                                }\n",
      "\n",
      "                                else {\n",
      "                                    votes[0] += 1;\n",
      "                                }\n",
      "                            }\n",
      "                        }\n",
      "\n",
      "                        else {\n",
      "                            if (x[0] <= 0.5) {\n",
      "                                votes[3] += 1;\n",
      "                            }\n",
      "\n",
      "                            else {\n",
      "                                if (x[2] <= 0.5) {\n",
      "                                    votes[1] += 1;\n",
      "                                }\n",
      "\n",
      "                                else {\n",
      "                                    votes[2] += 1;\n",
      "                                }\n",
      "                            }\n",
      "                        }\n",
      "\n",
      "                        // tree #7\n",
      "                        if (x[2] <= 0.5) {\n",
      "                            if (x[0] <= 0.5) {\n",
      "                                votes[3] += 1;\n",
      "                            }\n",
      "\n",
      "                            else {\n",
      "                                votes[1] += 1;\n",
      "                            }\n",
      "                        }\n",
      "\n",
      "                        else {\n",
      "                            if (x[0] <= 0.5) {\n",
      "                                votes[3] += 1;\n",
      "                            }\n",
      "\n",
      "                            else {\n",
      "                                if (x[1] <= 0.5) {\n",
      "                                    votes[0] += 1;\n",
      "                                }\n",
      "\n",
      "                                else {\n",
      "                                    votes[2] += 1;\n",
      "                                }\n",
      "                            }\n",
      "                        }\n",
      "\n",
      "                        // tree #8\n",
      "                        if (x[2] <= 0.5) {\n",
      "                            if (x[1] <= 0.5) {\n",
      "                                if (x[0] <= 0.5) {\n",
      "                                    votes[3] += 1;\n",
      "                                }\n",
      "\n",
      "                                else {\n",
      "                                    votes[1] += 1;\n",
      "                                }\n",
      "                            }\n",
      "\n",
      "                            else {\n",
      "                                if (x[0] <= 0.5) {\n",
      "                                    votes[3] += 1;\n",
      "                                }\n",
      "\n",
      "                                else {\n",
      "                                    votes[1] += 1;\n",
      "                                }\n",
      "                            }\n",
      "                        }\n",
      "\n",
      "                        else {\n",
      "                            if (x[1] <= 0.5) {\n",
      "                                if (x[0] <= 0.5) {\n",
      "                                    votes[3] += 1;\n",
      "                                }\n",
      "\n",
      "                                else {\n",
      "                                    votes[0] += 1;\n",
      "                                }\n",
      "                            }\n",
      "\n",
      "                            else {\n",
      "                                if (x[0] <= 0.5) {\n",
      "                                    votes[3] += 1;\n",
      "                                }\n",
      "\n",
      "                                else {\n",
      "                                    votes[2] += 1;\n",
      "                                }\n",
      "                            }\n",
      "                        }\n",
      "\n",
      "                        // tree #9\n",
      "                        if (x[1] <= 0.5) {\n",
      "                            if (x[0] <= 0.5) {\n",
      "                                votes[3] += 1;\n",
      "                            }\n",
      "\n",
      "                            else {\n",
      "                                if (x[2] <= 0.5) {\n",
      "                                    votes[1] += 1;\n",
      "                                }\n",
      "\n",
      "                                else {\n",
      "                                    votes[0] += 1;\n",
      "                                }\n",
      "                            }\n",
      "                        }\n",
      "\n",
      "                        else {\n",
      "                            if (x[0] <= 0.5) {\n",
      "                                votes[3] += 1;\n",
      "                            }\n",
      "\n",
      "                            else {\n",
      "                                if (x[2] <= 0.5) {\n",
      "                                    votes[1] += 1;\n",
      "                                }\n",
      "\n",
      "                                else {\n",
      "                                    votes[2] += 1;\n",
      "                                }\n",
      "                            }\n",
      "                        }\n",
      "\n",
      "                        // tree #10\n",
      "                        if (x[1] <= 0.5) {\n",
      "                            if (x[2] <= 0.5) {\n",
      "                                if (x[0] <= 0.5) {\n",
      "                                    votes[3] += 1;\n",
      "                                }\n",
      "\n",
      "                                else {\n",
      "                                    votes[1] += 1;\n",
      "                                }\n",
      "                            }\n",
      "\n",
      "                            else {\n",
      "                                if (x[0] <= 0.5) {\n",
      "                                    votes[3] += 1;\n",
      "                                }\n",
      "\n",
      "                                else {\n",
      "                                    votes[0] += 1;\n",
      "                                }\n",
      "                            }\n",
      "                        }\n",
      "\n",
      "                        else {\n",
      "                            if (x[0] <= 0.5) {\n",
      "                                votes[3] += 1;\n",
      "                            }\n",
      "\n",
      "                            else {\n",
      "                                votes[2] += 1;\n",
      "                            }\n",
      "                        }\n",
      "\n",
      "                        // return argmax of votes\n",
      "                        uint8_t classIdx = 0;\n",
      "                        float maxVotes = votes[0];\n",
      "\n",
      "                        for (uint8_t i = 1; i < 4; i++) {\n",
      "                            if (votes[i] > maxVotes) {\n",
      "                                classIdx = i;\n",
      "                                maxVotes = votes[i];\n",
      "                            }\n",
      "                        }\n",
      "\n",
      "                        return classIdx;\n",
      "                    }\n",
      "\n",
      "                protected:\n",
      "                };\n",
      "            }\n",
      "        }\n",
      "    }\n"
     ]
    }
   ],
   "source": [
    "from micromlgen import port\n",
    "from sklearn.ensemble import RandomForestClassifier\n",
    "import json\n",
    "\n",
    "    \n",
    "# Convert the model to C code\n",
    "c_code = port(model, platform='arduino')\n",
    "print(c_code)\n"
   ]
  },
  {
   "cell_type": "code",
   "execution_count": null,
   "id": "1fae4b6c",
   "metadata": {},
   "outputs": [],
   "source": []
  }
 ],
 "metadata": {
  "kernelspec": {
   "display_name": "Python 3 (ipykernel)",
   "language": "python",
   "name": "python3"
  },
  "language_info": {
   "codemirror_mode": {
    "name": "ipython",
    "version": 3
   },
   "file_extension": ".py",
   "mimetype": "text/x-python",
   "name": "python",
   "nbconvert_exporter": "python",
   "pygments_lexer": "ipython3",
   "version": "3.11.7"
  }
 },
 "nbformat": 4,
 "nbformat_minor": 5
}
